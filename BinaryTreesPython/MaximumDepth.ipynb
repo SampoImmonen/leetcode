{
 "cells": [
  {
   "cell_type": "markdown",
   "metadata": {},
   "source": [
    "# Maximum Depth of Binary Tree https://leetcode.com/problems/maximum-depth-of-binary-tree"
   ]
  },
  {
   "cell_type": "code",
   "execution_count": 10,
   "metadata": {},
   "outputs": [
    {
     "data": {
      "text/plain": [
       "3"
      ]
     },
     "execution_count": 10,
     "metadata": {},
     "output_type": "execute_result"
    }
   ],
   "source": [
    "# Definition for a binary tree node.\n",
    "class TreeNode:\n",
    "    def __init__(self, val=0, left=None, right=None):\n",
    "        self.val = val\n",
    "        self.left = left\n",
    "        self.right = right\n",
    "        \n",
    "class Solution:\n",
    "    \n",
    "    def maxDepth(self, root: TreeNode) -> int:\n",
    "        depth = 0\n",
    "        if root != None:\n",
    "            depth = self.traverse(root, depth+1)\n",
    "        return depth\n",
    "        \n",
    "    def traverse(self, node: TreeNode, depth) -> int:\n",
    "               \n",
    "        depth2 = depth\n",
    "        depth3 = depth\n",
    "        if node.left != None:\n",
    "            depth2 = self.traverse(node.left, depth+1)\n",
    "        if node.right != None:\n",
    "            depth3 = self.traverse(node.right, depth+1)\n",
    "\n",
    "        return max(depth2, depth3)\n",
    "    \n",
    "\n",
    "s = Solution()\n",
    "root = TreeNode()\n",
    "root.right = TreeNode()\n",
    "root.right.left = TreeNode()\n",
    "s.maxDepth(root)"
   ]
  }
 ],
 "metadata": {
  "kernelspec": {
   "display_name": "Python 3",
   "language": "python",
   "name": "python3"
  },
  "language_info": {
   "codemirror_mode": {
    "name": "ipython",
    "version": 3
   },
   "file_extension": ".py",
   "mimetype": "text/x-python",
   "name": "python",
   "nbconvert_exporter": "python",
   "pygments_lexer": "ipython3",
   "version": "3.6.8"
  }
 },
 "nbformat": 4,
 "nbformat_minor": 2
}
