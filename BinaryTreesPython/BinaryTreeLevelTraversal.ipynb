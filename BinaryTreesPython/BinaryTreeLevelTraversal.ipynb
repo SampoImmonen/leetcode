{
 "cells": [
  {
   "cell_type": "code",
   "execution_count": 4,
   "metadata": {},
   "outputs": [
    {
     "name": "stdout",
     "output_type": "stream",
     "text": [
      "solution\n"
     ]
    }
   ],
   "source": [
    "# Definition for a binary tree node.\n",
    "class TreeNode:\n",
    "     def __init__(self, val=0, left=None, right=None):\n",
    "            self.val = val\n",
    "            self.left = left\n",
    "            self.right = right\n",
    "class Solution:\n",
    "    \n",
    "    def levelOrder(self, root):\n",
    "        \n",
    "        if root==None:\n",
    "            return []\n",
    "        \n",
    "        results = []\n",
    "        #print(\"solution\")\n",
    "        nodes = []\n",
    "        #print(root.left)\n",
    "        nodes = self.appendNotNone(nodes, root.left)\n",
    "        nodes = self.appendNotNone(nodes, root.right)\n",
    "        \n",
    "        values = []\n",
    "        values = self.appendvalNotNone(values, root)\n",
    "        results.append(values)\n",
    "        while len(nodes) > 0:\n",
    "            values = []\n",
    "            newnodes = []\n",
    "            for node in nodes:\n",
    "                newnodes = self.appendNotNone(newnodes, node.left)\n",
    "                newnodes = self.appendNotNone(newnodes, node.right)\n",
    "                values.append(node.val)\n",
    "            nodes = newnodes\n",
    "            results.append(values)\n",
    "        return results\n",
    "    \n",
    "    def appendNotNone(self, nodes, node):\n",
    "        if node!=None:\n",
    "            nodes.append(node)\n",
    "        return nodes\n",
    "    \n",
    "    def appendvalNotNone(self, vals, node):\n",
    "        if node!=None:\n",
    "            vals.append(node.val)\n",
    "        return vals"
   ]
  }
 ],
 "metadata": {
  "kernelspec": {
   "display_name": "Python 3",
   "language": "python",
   "name": "python3"
  },
  "language_info": {
   "codemirror_mode": {
    "name": "ipython",
    "version": 3
   },
   "file_extension": ".py",
   "mimetype": "text/x-python",
   "name": "python",
   "nbconvert_exporter": "python",
   "pygments_lexer": "ipython3",
   "version": "3.6.8"
  }
 },
 "nbformat": 4,
 "nbformat_minor": 2
}
