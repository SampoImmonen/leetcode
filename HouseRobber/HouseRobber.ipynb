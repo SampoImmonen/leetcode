{
 "cells": [
  {
   "cell_type": "markdown",
   "metadata": {},
   "source": [
    "# House-Robber (https://leetcode.com/problems/house-robber/)"
   ]
  },
  {
   "cell_type": "code",
   "execution_count": 45,
   "metadata": {},
   "outputs": [
    {
     "data": {
      "text/plain": [
       "4"
      ]
     },
     "execution_count": 45,
     "metadata": {},
     "output_type": "execute_result"
    }
   ],
   "source": [
    "from typing import List\n",
    "\n",
    "class Solution:\n",
    "    \n",
    "    @classmethod\n",
    "    def rob(self, nums: List[int]) -> int:    \n",
    "        #trivial cases\n",
    "        if nums==None:\n",
    "            return 0\n",
    "        if len(nums) == 1:\n",
    "            return nums[0]\n",
    "        if len(nums) == 2:\n",
    "            return max(nums[0], nums[1])\n",
    "        \n",
    "        #init data\n",
    "        data = {}\n",
    "        data[0] = nums[0]\n",
    "        data[1] = max(nums[0], nums[1])\n",
    "        \n",
    "        #fill data dynamically\n",
    "        for i in range(2, len(nums)):\n",
    "            data[i] = max(data[i-2]+nums[i], data[i-1])\n",
    "        \n",
    "        return data[i]\n",
    "    \n",
    "Solution.rob([2,1,1,2])"
   ]
  },
  {
   "cell_type": "markdown",
   "metadata": {},
   "source": [
    "# House-Robber II (https://leetcode.com/problems/house-robber-ii/)"
   ]
  },
  {
   "cell_type": "code",
   "execution_count": 56,
   "metadata": {},
   "outputs": [
    {
     "name": "stdout",
     "output_type": "stream",
     "text": [
      "3\n",
      "2\n"
     ]
    },
    {
     "data": {
      "text/plain": [
       "3"
      ]
     },
     "execution_count": 56,
     "metadata": {},
     "output_type": "execute_result"
    }
   ],
   "source": [
    "from typing import List\n",
    "\n",
    "class Solution:\n",
    "    \n",
    "    @classmethod\n",
    "    def rob(self, nums: List[int]) -> int:    \n",
    "        \n",
    "        #trivial cases\n",
    "        if nums==None:\n",
    "            return 0\n",
    "        if len(nums) == 1:\n",
    "            return nums[0]\n",
    "        if len(nums) == 2:\n",
    "            return max(nums[0], nums[1])\n",
    "        if len(nums) == 3:\n",
    "            return max(nums[0], nums[1], nums[2])\n",
    "        \n",
    "        #init data\n",
    "        data_f = {}\n",
    "        data_f[0] = nums[0]\n",
    "        data_f[1] = max(nums[0], nums[1])\n",
    "        \n",
    "        data_b = {}\n",
    "        data_b[0] = nums[-1]\n",
    "        data_b[1] = max(nums[-1], nums[-2])\n",
    "        \n",
    "        #fill data dynamically\n",
    "        for i in range(2, len(nums)-1):\n",
    "            data_f[i] = max(data_f[i-2]+nums[i], data_f[i-1])\n",
    "            data_b[i] = max(data_b[i-2]+nums[-(i+1)], data_b[i-1])\n",
    "        return max(data_f[i], data_b[i])\n",
    "    \n",
    "Solution.rob([1,2,1,1])"
   ]
  }
 ],
 "metadata": {
  "kernelspec": {
   "display_name": "Python 3",
   "language": "python",
   "name": "python3"
  },
  "language_info": {
   "codemirror_mode": {
    "name": "ipython",
    "version": 3
   },
   "file_extension": ".py",
   "mimetype": "text/x-python",
   "name": "python",
   "nbconvert_exporter": "python",
   "pygments_lexer": "ipython3",
   "version": "3.6.8"
  }
 },
 "nbformat": 4,
 "nbformat_minor": 2
}
