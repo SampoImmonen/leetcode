{
 "cells": [
  {
   "cell_type": "code",
   "execution_count": 21,
   "metadata": {},
   "outputs": [
    {
     "data": {
      "text/plain": [
       "13"
      ]
     },
     "execution_count": 21,
     "metadata": {},
     "output_type": "execute_result"
    }
   ],
   "source": [
    "class Solution:\n",
    "    @classmethod\n",
    "    def climbStairs(self, n: int) -> int:\n",
    "        dp = [0]*(n+1)\n",
    "        if n == 0:\n",
    "            return 0\n",
    "        dp[1] = 1\n",
    "        if n == 1:\n",
    "            return 1\n",
    "        dp[2] = 2\n",
    "        if n == 2:\n",
    "            return 2\n",
    "        for i in range(3, n+1):\n",
    "            dp[i] = dp[i-1]+dp[i-2]\n",
    "        return dp[-1]\n",
    "    \n",
    "Solution.climbStairs(6)"
   ]
  }
 ],
 "metadata": {
  "kernelspec": {
   "display_name": "Python 3",
   "language": "python",
   "name": "python3"
  },
  "language_info": {
   "codemirror_mode": {
    "name": "ipython",
    "version": 3
   },
   "file_extension": ".py",
   "mimetype": "text/x-python",
   "name": "python",
   "nbconvert_exporter": "python",
   "pygments_lexer": "ipython3",
   "version": "3.6.8"
  }
 },
 "nbformat": 4,
 "nbformat_minor": 2
}
