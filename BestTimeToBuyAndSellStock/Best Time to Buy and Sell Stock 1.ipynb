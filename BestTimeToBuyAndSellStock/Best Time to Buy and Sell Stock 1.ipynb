{
 "cells": [
  {
   "cell_type": "code",
   "execution_count": 55,
   "metadata": {},
   "outputs": [
    {
     "name": "stdout",
     "output_type": "stream",
     "text": [
      "0\n",
      "5\n"
     ]
    }
   ],
   "source": [
    "from typing import List\n",
    "\n",
    "class Solution:\n",
    "    \n",
    "    @classmethod\n",
    "    def maxProfit(self, prices: List[int]) -> int:\n",
    "        maxprofit = 0\n",
    "        minprice = float(\"inf\")\n",
    "        for price in prices:\n",
    "            if price < minprice:\n",
    "                minprice = price\n",
    "            elif (price - minprice > maxprofit):\n",
    "                maxprofit = price-minprice\n",
    "        return maxprofit\n",
    "        \n",
    "    \n",
    "\n",
    "s = Solution()\n",
    "prices1 = [7,6,4,3,1]\n",
    "print(s.maxProfit(prices1))\n",
    "prices2 = [7,1,5,3,6,4]\n",
    "print(s.maxProfit(prices2))"
   ]
  }
 ],
 "metadata": {
  "kernelspec": {
   "display_name": "Python 3",
   "language": "python",
   "name": "python3"
  },
  "language_info": {
   "codemirror_mode": {
    "name": "ipython",
    "version": 3
   },
   "file_extension": ".py",
   "mimetype": "text/x-python",
   "name": "python",
   "nbconvert_exporter": "python",
   "pygments_lexer": "ipython3",
   "version": "3.6.8"
  }
 },
 "nbformat": 4,
 "nbformat_minor": 2
}
