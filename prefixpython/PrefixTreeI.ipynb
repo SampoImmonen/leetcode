{
 "cells": [
  {
   "cell_type": "markdown",
   "metadata": {},
   "source": [
    "# leetcode challenge prefix tree I (https://leetcode.com/problems/implement-trie-prefix-tree/)"
   ]
  },
  {
   "cell_type": "code",
   "execution_count": 24,
   "metadata": {},
   "outputs": [
    {
     "name": "stdout",
     "output_type": "stream",
     "text": [
      "False\n",
      "True\n",
      "True\n"
     ]
    }
   ],
   "source": [
    "class TrieNode:\n",
    "    \n",
    "    def __init__(self, prefix: str, value: int = 0, isword: bool = False) -> None:\n",
    "        \n",
    "        self.prefix = prefix\n",
    "        self.isword = isword\n",
    "        self.value = value\n",
    "        #chilred dictionary maps character into a Node\n",
    "        self.children = {}\n",
    "    \n",
    "    def newnode(self, symbol: str, isword: bool = False) -> None:\n",
    "        \"\"\"\n",
    "        creates new node by extending the prefix by the given symbol\n",
    "        \"\"\"\n",
    "        self.children[symbol] = TrieNode(self.prefix+symbol)\n",
    "        return \n",
    "    def isword(self) -> bool:\n",
    "        return self.isword\n",
    "\n",
    "class Trie:\n",
    "\n",
    "    def __init__(self):\n",
    "        \"\"\"\n",
    "        Initialize your data structure here.\n",
    "        \"\"\"\n",
    "        self.root = TrieNode(\"\")\n",
    "        \n",
    "    def insert(self, word: str) -> None:\n",
    "        \"\"\"\n",
    "        Inserts a word into the trie.\n",
    "        \"\"\"\n",
    "        node = self.root\n",
    "        for char in word:\n",
    "            if char in node.children.keys():\n",
    "                node = node.children[char]\n",
    "                continue\n",
    "                \n",
    "            node.newnode(char)\n",
    "            node = node.children[char]\n",
    "        node.isword = True\n",
    "        \n",
    "        return\n",
    "            \n",
    "        \n",
    "\n",
    "    def search(self, word: str) -> bool:\n",
    "        \"\"\"\n",
    "        Returns if the word is in the trie.\n",
    "        \"\"\"\n",
    "        node = self.root\n",
    "        for char in word:\n",
    "            if char in node.children.keys():\n",
    "                node = node.children[char]\n",
    "                continue\n",
    "            return False\n",
    "        \n",
    "        if node.isword:\n",
    "            return True\n",
    "        return False\n",
    "                \n",
    "        \n",
    "\n",
    "    def startsWith(self, prefix: str) -> bool:\n",
    "        \"\"\"\n",
    "        Returns if there is any word in the trie that starts with the given prefix.\n",
    "        \"\"\"\n",
    "        node = self.root\n",
    "        for char in prefix:\n",
    "            if char in node.children.keys():\n",
    "                node = node.children[char]\n",
    "                continue\n",
    "            return False\n",
    "        \n",
    "        return True\n",
    "    \n",
    "# Your Trie object will be instantiated and called as such:\n",
    "# obj = Trie()\n",
    "# obj.insert(word)\n",
    "# param_2 = obj.search(word)\n",
    "# param_3 = obj.startsWith(prefix)\n",
    "\n",
    "t = Trie()\n",
    "t.insert(\"a\")\n",
    "t.insert(\"orange\")\n",
    "print(t.search(\"app\"))\n",
    "print(t.search(\"a\"))\n",
    "print(t.startsWith(\"a\"))"
   ]
  }
 ],
 "metadata": {
  "kernelspec": {
   "display_name": "Python 3",
   "language": "python",
   "name": "python3"
  },
  "language_info": {
   "codemirror_mode": {
    "name": "ipython",
    "version": 3
   },
   "file_extension": ".py",
   "mimetype": "text/x-python",
   "name": "python",
   "nbconvert_exporter": "python",
   "pygments_lexer": "ipython3",
   "version": "3.6.8"
  }
 },
 "nbformat": 4,
 "nbformat_minor": 2
}
