{
 "cells": [
  {
   "cell_type": "markdown",
   "metadata": {},
   "source": [
    "# Find the longest common prefix (https://leetcode.com/problems/longest-common-prefix/)"
   ]
  },
  {
   "cell_type": "code",
   "execution_count": 68,
   "metadata": {},
   "outputs": [
    {
     "data": {
      "text/plain": [
       "''"
      ]
     },
     "execution_count": 68,
     "metadata": {},
     "output_type": "execute_result"
    }
   ],
   "source": [
    "class Solution:\n",
    "    \n",
    "    @classmethod\n",
    "    def longestCommonPrefix(self, strs):\n",
    "        #check edge cases\n",
    "        if len(strs) == 0:\n",
    "            return \"\"\n",
    "        \n",
    "        if len(strs) == 1:\n",
    "            return strs[0]\n",
    "        \n",
    "        shortest = min(strs, key=len)\n",
    "        pre = shortest\n",
    "        for string in strs:\n",
    "            for i in range(len(pre)):\n",
    "                if string[:i+1]!=pre[:i+1]:\n",
    "                    pre = pre[:i]\n",
    "                    break\n",
    "            \n",
    "        return pre\n",
    "\n",
    "Solution.longestCommonPrefix([\"ab\", \"abcd\", \"abc\", \"dab\"])"
   ]
  }
 ],
 "metadata": {
  "kernelspec": {
   "display_name": "Python 3",
   "language": "python",
   "name": "python3"
  },
  "language_info": {
   "codemirror_mode": {
    "name": "ipython",
    "version": 3
   },
   "file_extension": ".py",
   "mimetype": "text/x-python",
   "name": "python",
   "nbconvert_exporter": "python",
   "pygments_lexer": "ipython3",
   "version": "3.6.8"
  }
 },
 "nbformat": 4,
 "nbformat_minor": 2
}
