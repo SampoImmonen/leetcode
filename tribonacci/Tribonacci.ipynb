{
 "cells": [
  {
   "cell_type": "code",
   "execution_count": 21,
   "metadata": {},
   "outputs": [
    {
     "name": "stdout",
     "output_type": "stream",
     "text": [
      "[0, 1, 1, 2]\n"
     ]
    },
    {
     "data": {
      "text/plain": [
       "2"
      ]
     },
     "execution_count": 21,
     "metadata": {},
     "output_type": "execute_result"
    }
   ],
   "source": [
    "class Solution:\n",
    "    @classmethod\n",
    "    def tribonacci(self, n: int) -> int:\n",
    "        dp = [0,1,1]\n",
    "        if n < 3:\n",
    "            return dp[n]\n",
    "        \n",
    "        dp = [0]*(n+1)\n",
    "        dp[0:3] = [0,1,1]\n",
    "        for i in range(3, n+1):\n",
    "            dp[i] = sum(dp[i-3:i])\n",
    "    \n",
    "        return dp[-1]\n",
    "    \n",
    "Solution.tribonacci(3)"
   ]
  }
 ],
 "metadata": {
  "kernelspec": {
   "display_name": "Python 3",
   "language": "python",
   "name": "python3"
  },
  "language_info": {
   "codemirror_mode": {
    "name": "ipython",
    "version": 3
   },
   "file_extension": ".py",
   "mimetype": "text/x-python",
   "name": "python",
   "nbconvert_exporter": "python",
   "pygments_lexer": "ipython3",
   "version": "3.6.8"
  }
 },
 "nbformat": 4,
 "nbformat_minor": 2
}
