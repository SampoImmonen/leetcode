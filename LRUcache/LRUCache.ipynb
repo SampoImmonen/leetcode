{
 "cells": [
  {
   "cell_type": "markdown",
   "metadata": {},
   "source": [
    "# LRU Cache (https://leetcode.com/problems/lru-cache/)"
   ]
  },
  {
   "cell_type": "markdown",
   "metadata": {},
   "source": [
    "# Simple but slow implementation"
   ]
  },
  {
   "cell_type": "code",
   "execution_count": 5,
   "metadata": {},
   "outputs": [
    {
     "name": "stdout",
     "output_type": "stream",
     "text": [
      "1\n",
      "-1\n",
      "-1\n",
      "3\n",
      "4\n"
     ]
    }
   ],
   "source": [
    "class LRUCache:\n",
    "\n",
    "    def __init__(self, capacity: int):\n",
    "        self.store = {}\n",
    "        self.capacity = capacity\n",
    "        self.used = [None]*capacity\n",
    "    \n",
    "    def get(self, key: int) -> int:\n",
    "        if key in self.store.keys():\n",
    "            self.used.insert(0, self.used.pop(self.used.index(key)))\n",
    "            return self.store[key]\n",
    "        else:\n",
    "            return -1  \n",
    "    \n",
    "    def put(self, key: int, value: int) -> None:\n",
    "        #if key already in store\n",
    "        if key in self.store.keys():\n",
    "            self.used.insert(0,self.used.pop(self.used.index(key)))\n",
    "            self.store[key] = value\n",
    "            return\n",
    "        #if room in store\n",
    "        if len(self.store.keys()) < self.capacity:\n",
    "            self.used = [key]+self.used[:-1]\n",
    "            self.store[key] = value\n",
    "            return\n",
    "        # delete the right key from store\n",
    "        del_key = self.used[-1]\n",
    "        del self.store[del_key]\n",
    "        self.store[key] = value\n",
    "        self.used = [key]+self.used[:-1]\n",
    "        return\n",
    "        \n",
    "        \n",
    "\n",
    "c = LRUCache(5)\n",
    "# Your LRUCache object will be instantiated and called as such:\n",
    "# obj = LRUCache(capacity)\n",
    "# param_1 = obj.get(key)\n",
    "# obj.put(key,value)\n",
    "c = LRUCache(2);\n",
    "c.get(1)\n",
    "c.put(1, 1); # cache is {1=1}\n",
    "c.put(2, 2); # cache is {1=1, 2=2}\n",
    "print(c.get(1));    # return 1\n",
    "c.put(3, 3); # LRU key was 2, evicts key 2, cache is {1=1, 3=3}\n",
    "print(c.get(2));    # returns -1 (not found)\n",
    "c.put(4, 4); # LRU key was 1, evicts key 1, cache is {4=4, 3=3}\n",
    "print(c.get(1));    # return -1 (not found)\n",
    "print(c.get(3));    # return 3\n",
    "print(c.get(4));    # return 4"
   ]
  },
  {
   "cell_type": "markdown",
   "metadata": {},
   "source": [
    "# Implementation using OrderedDict"
   ]
  },
  {
   "cell_type": "code",
   "execution_count": 6,
   "metadata": {},
   "outputs": [
    {
     "name": "stdout",
     "output_type": "stream",
     "text": [
      "1\n",
      "-1\n",
      "-1\n",
      "3\n",
      "4\n"
     ]
    }
   ],
   "source": [
    "from collections import OrderedDict\n",
    "\n",
    "class LRUCache:\n",
    "\n",
    "    def __init__(self, capacity: int):\n",
    "        self.capacity = capacity\n",
    "        self.store = OrderedDict()\n",
    "    \n",
    "    def get(self, key: int) -> int:\n",
    "        if key in self.store:\n",
    "            self.store.move_to_end(key)\n",
    "            return self.store[key]\n",
    "        return -1\n",
    "    \n",
    "    def put(self, key: int, value: int) -> None:\n",
    "        #if key in store\n",
    "        self.store[key] = value\n",
    "        self.store.move_to_end(key)\n",
    "        if len(self.store) > self.capacity:\n",
    "            self.store.popitem(last=False)\n",
    "        return\n",
    "    \n",
    "c = LRUCache(2);\n",
    "c.get(1)\n",
    "c.put(1, 1); # cache is {1=1}\n",
    "c.put(2, 2); # cache is {1=1, 2=2}\n",
    "print(c.get(1));    # return 1\n",
    "c.put(3, 3); # LRU key was 2, evicts key 2, cache is {1=1, 3=3}\n",
    "print(c.get(2));    # returns -1 (not found)\n",
    "c.put(4, 4); # LRU key was 1, evicts key 1, cache is {4=4, 3=3}\n",
    "print(c.get(1));    # return -1 (not found)\n",
    "print(c.get(3));    # return 3\n",
    "print(c.get(4));    # return 4"
   ]
  }
 ],
 "metadata": {
  "kernelspec": {
   "display_name": "Python 3",
   "language": "python",
   "name": "python3"
  },
  "language_info": {
   "codemirror_mode": {
    "name": "ipython",
    "version": 3
   },
   "file_extension": ".py",
   "mimetype": "text/x-python",
   "name": "python",
   "nbconvert_exporter": "python",
   "pygments_lexer": "ipython3",
   "version": "3.6.8"
  }
 },
 "nbformat": 4,
 "nbformat_minor": 2
}
