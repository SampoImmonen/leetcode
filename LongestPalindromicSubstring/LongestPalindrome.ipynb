{
 "cells": [
  {
   "cell_type": "markdown",
   "metadata": {},
   "source": [
    "# Longest Palindromic Substring (https://leetcode.com/problems/longest-palindromic-substring/)"
   ]
  },
  {
   "cell_type": "code",
   "execution_count": 150,
   "metadata": {},
   "outputs": [
    {
     "name": "stdout",
     "output_type": "stream",
     "text": [
      "bab\n"
     ]
    },
    {
     "data": {
      "text/plain": [
       "'bab'"
      ]
     },
     "execution_count": 150,
     "metadata": {},
     "output_type": "execute_result"
    }
   ],
   "source": [
    "import time\n",
    "\n",
    "\n",
    "class Solution:\n",
    "    \n",
    "    @classmethod\n",
    "    def longestPalindrome(self, s: str) -> str:\n",
    "                \n",
    "        data = []\n",
    "        palindrome = s[0]\n",
    "        #init data\n",
    "        for i in range(len(s)):\n",
    "            row = [False for j in range(len(s))]\n",
    "            row[i] = True\n",
    "            if (i!=len(s)-1 and s[i]==s[i+1]) :\n",
    "                row[i+1] = True\n",
    "                palindrome = s[i:i+2]\n",
    "            data.append(row)\n",
    "            \n",
    "        \n",
    "        for j in range(2, len(s)):\n",
    "            rows = len(s)-j\n",
    "            for i in range(rows):\n",
    "                val = (data[i+1][i+j-1] and s[i] == s[i+j])\n",
    "                data[i][i+j] = val\n",
    "                if (val and j+1 > len(palindrome)):\n",
    "                    palindrome = s[i:i+j+1]\n",
    "                \n",
    "        return palindrome\n",
    "                \n",
    "            \n",
    "    \n",
    "s = \"babad\"\n",
    "Solution.longestPalindrome(s)"
   ]
  },
  {
   "cell_type": "code",
   "execution_count": 126,
   "metadata": {},
   "outputs": [],
   "source": []
  }
 ],
 "metadata": {
  "kernelspec": {
   "display_name": "Python 3",
   "language": "python",
   "name": "python3"
  },
  "language_info": {
   "codemirror_mode": {
    "name": "ipython",
    "version": 3
   },
   "file_extension": ".py",
   "mimetype": "text/x-python",
   "name": "python",
   "nbconvert_exporter": "python",
   "pygments_lexer": "ipython3",
   "version": "3.6.8"
  }
 },
 "nbformat": 4,
 "nbformat_minor": 2
}
